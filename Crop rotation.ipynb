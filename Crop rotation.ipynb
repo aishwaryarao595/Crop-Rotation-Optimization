{
 "cells": [
  {
   "cell_type": "code",
   "execution_count": 1,
   "metadata": {},
   "outputs": [],
   "source": [
    "#Importing libraries\n",
    "import gurobipy as gp\n",
    "from gurobipy import *\n",
    "import pandas as pd\n",
    "import numpy as np"
   ]
  },
  {
   "cell_type": "markdown",
   "metadata": {},
   "source": [
    "##### Assumptions"
   ]
  },
  {
   "cell_type": "code",
   "execution_count": 2,
   "metadata": {},
   "outputs": [],
   "source": [
    "#Defining how we can split land\n",
    "land = ['1_yr_rotn', '3_yr_rotn']\n",
    "\n",
    "#Crops in selection bucket for 1-year and 3-year rotation\n",
    "cycle_1 = ['cotton', 'oats', 'wheat', 'barley', 'rice' ]\n",
    "cycle_3 = ['wheat', 'cotton', 'oats', 'corn', 'barley', 'rice']\n",
    "\n",
    "#Total acres of land to be planned for\n",
    "acres = 10\n",
    "\n",
    "#Setting budget restrictions\n",
    "seeds_budget = 150*acres\n",
    "fertilizer_budget = 200*acres\n",
    "\n",
    "#Plan to be developed for pre-defined years\n",
    "years = 10\n",
    "\n",
    "#Minimum no. of crops to be selected for each type of rotation\n",
    "no_1_year_crops = 1\n",
    "no_3_year_crops = 2"
   ]
  },
  {
   "cell_type": "markdown",
   "metadata": {},
   "source": [
    "##### Input data as obtained from reliable source eg. USDA"
   ]
  },
  {
   "cell_type": "code",
   "execution_count": 3,
   "metadata": {},
   "outputs": [],
   "source": [
    "#Seed costs split as per crops for 1-year and 3-years rotation\n",
    "seed_1 = [17.86, 8.51, 7.51, 10.48, 24.17]\n",
    "seed_3 = [7.51, 17.86, 8.51, 27.59, 10.48, 24.17]\n",
    "\n",
    "#Fertilizer costs split as per crops for 1-year and 3-years rotation\n",
    "fertilizer_1 = [37.96, 10.03, 18.59, 12.79, 45.93]\n",
    "fertilizer_3 = [18.59, 37.96, 10.03, 51.47, 12.79, 45.93]\n",
    "\n",
    "#Yields split as per crops for 1-year and 3-years rotation\n",
    "yields_1 = [13.75, 61.3, 37.1, 77.2, 126.98]\n",
    "yields_3 = [37.1, 13.75, 61.3, 176.5, 77.2, 126.98]\n",
    "\n",
    "#Selling Price as per crops for 1-year and 3-years rotation\n",
    "selling_price_1 = [137.71, 419.04, 125.12, 304.23, 493.53]\n",
    "selling_price_3 = [125.12, 137.71, 419.04, 847.73, 304.23, 493.53]\n",
    "\n"
   ]
  },
  {
   "cell_type": "code",
   "execution_count": 4,
   "metadata": {},
   "outputs": [],
   "source": [
    "len_cycle_1 = len(cycle_1)\n",
    "len_cycle_3 = len(cycle_3)"
   ]
  },
  {
   "cell_type": "code",
   "execution_count": 5,
   "metadata": {},
   "outputs": [
    {
     "name": "stdout",
     "output_type": "stream",
     "text": [
      "Restricted license - for non-production use only - expires 2022-01-13\n"
     ]
    }
   ],
   "source": [
    "#Intiating the model\n",
    "model = Model(\"Team 15 - Crop Selection\")"
   ]
  },
  {
   "cell_type": "markdown",
   "metadata": {},
   "source": [
    "##### Adding decision variables\n",
    "\n",
    "- **Choice_1 :**\n",
    "    - A matrix of binary variables of dimensions (years*no._of_crops_considered_for_1-year_rotation)\n",
    "    - This matrix essentially shows if a particular crop will be grown in a particular year.\n",
    "\n",
    "\n",
    "\n",
    "- **Choice_3 :**\n",
    "    - A matrix of binary variables of dimensions (years*no._of_crops_considered_for_3-year_rotation)\n",
    "    - This matrix essentially shows if a particular crop will be grown in a particular year.  \n",
    "\n",
    "\n",
    "\n",
    "           \n",
    "- **profit_1 :**\n",
    "    - A 1-D matrix of continuous variables of length similar to number of years.\n",
    "    - This matrix captures the profit for each year as contributed by crops following the 1-year rotation.\n",
    "    \n",
    "    \n",
    " \n",
    "- **profit_3 :**\n",
    "    - A 1-D matrix of continuous variables of length similar to number of years.\n",
    "    - This matrix captures the profit for each year as contributed by crops following the 3-year rotation.\n",
    "    \n",
    " \n",
    "           \n",
    "- **land_devoted :**\n",
    "    - A 1-D matrix of continuous variables of length similar to number of years.\n",
    "    - This matrix records the land alloted to crops following 1-year rotation and 3-year rotation respectively.\n",
    "    - In case of multiple crops grown under any of the pattern, land is assumed to divided equally to the crops under                  that pattern."
   ]
  },
  {
   "cell_type": "code",
   "execution_count": 6,
   "metadata": {},
   "outputs": [],
   "source": [
    "choice_1 = model.addVars(years,len_cycle_1, vtype = GRB.BINARY, name = [\"choice_1_yr_\"+str(i+1)+\"_crop_\"+j for i in range(years) for j in cycle_1])\n",
    "choice_3 = model.addVars(years,len_cycle_3, vtype = GRB.BINARY, name = [\"choice_3_yr_\"+str(i+1)+\"_crop_\"+j for i in range(years) for j in cycle_3])\n",
    "profit_1 = model.addVars(years, vtype = GRB.CONTINUOUS, name = [\"profit_1_\"+str(i+1) for i in range(years)])\n",
    "profit_3 = model.addVars(years, vtype = GRB.CONTINUOUS, name = [\"profit_3_\"+str(i+1) for i in range(years)])\n",
    "land_devoted = model.addVars(years, len(land), lb=acres/10, vtype = GRB.CONTINUOUS, name = [\"land_devoted_\"+j+\"_year_\"+str(i+1) for i in range(years) for j in land])"
   ]
  },
  {
   "cell_type": "markdown",
   "metadata": {},
   "source": [
    "##### Adding constraints on model\n",
    "\n",
    "Constraint 1: Fertilizer budget <br>\n",
    "Constraint 2: Seeds' budget <br>\n",
    "Constraint 3: Limit on no. of crops for a 1-year rotation  <br>\n",
    "Constraint 4: Limit on no. of crops for a 3-year rotation <br>\n",
    "Constraint 5: Max limit on no. of crops to be planted overall <br>\n",
    "Constarint 6: Land devoted to the crops should be less than the farm size\n"
   ]
  },
  {
   "cell_type": "code",
   "execution_count": 7,
   "metadata": {},
   "outputs": [],
   "source": [
    "for i in range(years):\n",
    "    \n",
    "    model.addConstr(sum(choice_1[i,j]*fertilizer_1[j]*land_devoted[i,0] for j in range(len(fertilizer_1)))+sum(choice_3[i,k]*fertilizer_3[k]*land_devoted[i,1] for k in range(len(fertilizer_3)))<=fertilizer_budget, name=\"fertilizer_budget_year_\"+str(i+1))\n",
    "    model.addConstr(sum(choice_1[i,j]*seed_1[j]*land_devoted[i,0] for j in range(len(seed_1)))+sum(choice_3[i,k]*seed_3[k]*land_devoted[i,1] for k in range(len(seed_3)))<=seeds_budget, name=\"seed_budget_year_\"+str(i+1))\n",
    "    model.addConstr(sum(choice_1[i,j] for j in range(len_cycle_1))>=no_1_year_crops, name=\"selection_limit_1_year_\"+str(i+1))\n",
    "    model.addConstr(sum(choice_3[i,j] for j in range(len_cycle_3))>=no_3_year_crops, name=\"selection_limit_3_year_\"+str(i+1))\n",
    "    model.addConstr(sum(choice_1[i,j]*land_devoted[i,0] for j in range(len(cycle_1)))+sum(choice_3[i,k]*land_devoted[i,1] for k in range(len(cycle_3)))<=acres, name=\"land_devoted_limit\"+str(i+1))\n",
    "    model.addConstr(sum(land_devoted[i,j] for j in range(len(land)))<=acres, name=\"land_limit_3_year_\"+str(i+1))"
   ]
  },
  {
   "cell_type": "markdown",
   "metadata": {},
   "source": [
    "Constraint 7: Corn to be preceded by Wheat"
   ]
  },
  {
   "cell_type": "code",
   "execution_count": 8,
   "metadata": {},
   "outputs": [],
   "source": [
    "\n",
    "for i in range(1,years):\n",
    "    model.addConstr(choice_3[i, 3]<=choice_3[i-1, 0], name=\"corn-wheat_\"+str(i))"
   ]
  },
  {
   "cell_type": "markdown",
   "metadata": {},
   "source": [
    "Constraint 8: Same crop cannot be planted in the 1-year rotation plan as well as the 3-year rotation plan <br>"
   ]
  },
  {
   "cell_type": "code",
   "execution_count": 9,
   "metadata": {},
   "outputs": [],
   "source": [
    "a=[]\n",
    "\n",
    "for j in range(len(cycle_1)):\n",
    "    for k in range(len(cycle_3)):\n",
    "        if cycle_1[j]==cycle_3[k]:\n",
    "            if cycle_1[j] not in a:\n",
    "                a.append(cycle_1[j])\n",
    "                for i in range(years):\n",
    "                    model.addConstr(choice_1[i,j]+choice_3[i,k]<=1, name=\"No Two crops\"+str(i)+\"_\"+str(j)+\"_\"+str(k))\n",
    "    "
   ]
  },
  {
   "cell_type": "markdown",
   "metadata": {},
   "source": [
    "\n",
    "Constraint 9: Limit on planting the same crop for a 1-year rotation cycle in 10 years<br>\n",
    "Constraint 10: Limit on planting consecutive crops for a 1-year cycle rotation <br>\n",
    "Constraint 11: Limit on planting the same crop for a 3-year rotation cycle in 10 years <br>\n",
    "Constraint 12: Limit on planting consecutive crops for a 3-year cycle rotation<br>"
   ]
  },
  {
   "cell_type": "code",
   "execution_count": 10,
   "metadata": {},
   "outputs": [],
   "source": [
    "for i in range(len_cycle_1):\n",
    "    model.addConstr(sum(choice_1[j,i] for j in range(years))<=3, name=\"growth_limit_1_crop_\"+str(i))\n",
    "    for j in range(0, (years-1)):\n",
    "        model.addConstr(choice_1[j,i]+choice_1[j+1,i]<=1, name=\"consecutive_1_crop_\"+str(i)+\"_Year_\"+str(j))\n",
    "for i in range(len_cycle_3):\n",
    "    model.addConstr(sum(choice_3[j,i] for j in range(years))<=4, name=\"growth_limit_3_crop_\"+str(i))\n",
    "    for j in range(0, (years-2)):\n",
    "        model.addConstr(choice_3[j,i]+choice_3[j+1,i]+choice_3[j+2,i]<=1, name=\"consecutive_3_crop_\"+str(i)+\"_Year_\"+str(j))"
   ]
  },
  {
   "cell_type": "markdown",
   "metadata": {},
   "source": [
    "##### Constraints on objective\n",
    "\n",
    "Constraint 13: Profit earned from a 1-year cycle rotation <br>\n",
    "Constraint 14: Profit earned from a 3-year cycle rotation <br>"
   ]
  },
  {
   "cell_type": "code",
   "execution_count": 11,
   "metadata": {},
   "outputs": [],
   "source": [
    " \n",
    "for i in range(years):\n",
    "    model.addConstr(sum(choice_1[i,j]*selling_price_1[j]*yields_1[j]*land_devoted[i,0] for j in range(len_cycle_1)) == profit_1[i], name=\"profit_1_\"+str(i))\n",
    "    model.addConstr(sum(choice_3[i,j]*selling_price_3[j]*yields_3[j]*land_devoted[i,1] for j in range(len_cycle_3)) == profit_3[i], name=\"profit_3_\"+str(i))"
   ]
  },
  {
   "cell_type": "code",
   "execution_count": 12,
   "metadata": {},
   "outputs": [],
   "source": [
    "#Setting the objective\n",
    "objective = sum(profit_1[i]+profit_3[i] for i in range(years))\n",
    "model.setObjective(objective, GRB.MAXIMIZE)"
   ]
  },
  {
   "cell_type": "code",
   "execution_count": 13,
   "metadata": {
    "scrolled": true
   },
   "outputs": [
    {
     "name": "stdout",
     "output_type": "stream",
     "text": [
      "Changed value of parameter NonConvex to 2\n",
      "   Prev: -1  Min: -1  Max: 2  Default: -1\n",
      "Changed value of parameter PoolSearchMode to 2\n",
      "   Prev: 0  Min: 0  Max: 2  Default: 0\n",
      "Changed value of parameter TimeLimit to 720.0\n",
      "   Prev: inf  Min: 0.0  Max: inf  Default: inf\n",
      "Gurobi Optimizer version 9.1.2 build v9.1.2rc0 (win64)\n",
      "Thread count: 4 physical cores, 8 logical processors, using up to 8 threads\n",
      "Optimize a model with 193 rows, 150 columns and 592 nonzeros\n",
      "Model fingerprint: 0x053f5a99\n",
      "Model has 50 quadratic constraints\n",
      "Variable types: 40 continuous, 110 integer (110 binary)\n",
      "Coefficient statistics:\n",
      "  Matrix range     [1e+00, 1e+00]\n",
      "  QMatrix range    [1e+00, 1e+05]\n",
      "  QLMatrix range   [1e+00, 1e+00]\n",
      "  Objective range  [1e+00, 1e+00]\n",
      "  Bounds range     [1e+00, 1e+00]\n",
      "  RHS range        [1e+00, 1e+01]\n",
      "  QRHS range       [1e+01, 2e+03]\n",
      "Presolve removed 6 rows and 0 columns\n",
      "Presolve time: 0.14s\n",
      "Presolved: 557 rows, 260 columns, 1982 nonzeros\n",
      "Variable types: 150 continuous, 110 integer (110 binary)\n",
      "Found heuristic solution: objective 5024171.5188\n",
      "\n",
      "Root relaxation: objective -8.305894e+06, 303 iterations, 0.01 seconds\n",
      "\n",
      "    Nodes    |    Current Node    |     Objective Bounds      |     Work\n",
      " Expl Unexpl |  Obj  Depth IntInf | Incumbent    BestBd   Gap | It/Node Time\n",
      "\n",
      "     0     0 8305894.05    0   76 5024171.52 8305894.05  65.3%     -    0s\n",
      "H    0     0                    5997802.3826 8305894.05  38.5%     -    0s\n",
      "H    0     0                    6056056.4106 8305894.05  37.2%     -    0s\n",
      "     0     0 7988893.44    0   82 6056056.41 7988893.44  31.9%     -    0s\n",
      "H    0     0                    6058804.8501 7988893.44  31.9%     -    0s\n",
      "     0     0 7179391.64    0   84 6058804.85 7179391.64  18.5%     -    0s\n",
      "H    0     0                    6077649.4541 7179391.64  18.1%     -    0s\n",
      "H    0     0                    6176331.3643 7179391.64  16.2%     -    0s\n",
      "     0     0 7123865.10    0   83 6176331.36 7123865.10  15.3%     -    0s\n",
      "H    0     0                    6184033.4503 7123865.10  15.2%     -    0s\n",
      "     0     0 6988589.14    0   79 6184033.45 6988589.14  13.0%     -    0s\n",
      "     0     0 6937365.92    0   78 6184033.45 6937365.92  12.2%     -    0s\n",
      "     0     0 6346544.97    0   68 6184033.45 6346544.97  2.63%     -    0s\n",
      "     0     0 6301331.79    0   76 6184033.45 6301331.79  1.90%     -    0s\n",
      "     0     0 6294977.31    0   72 6184033.45 6294977.31  1.79%     -    0s\n",
      "     0     0 6205610.57    0   69 6184033.45 6205610.57  0.35%     -    0s\n",
      "     0     0 6205610.57    0   64 6184033.45 6205610.57  0.35%     -    0s\n",
      "     0     2 6205610.57    0   60 6184033.45 6205610.57  0.35%     -    0s\n",
      "\n",
      "Optimal solution found at node 37 - now completing solution pool...\n",
      "\n",
      "    Nodes    |    Current Node    |      Pool Obj. Bounds     |     Work\n",
      "             |                    |   Worst                   |\n",
      " Expl Unexpl |  Obj  Depth IntInf | Incumbent    BestBd   Gap | It/Node Time\n",
      "\n",
      "    37    24 infeasible   10      6085351.54 6184033.45  1.62%  21.2    0s\n",
      "\n",
      "Cutting planes:\n",
      "  Implied bound: 2\n",
      "  MIR: 11\n",
      "  Flow cover: 10\n",
      "  RLT: 23\n",
      "  Relax-and-lift: 3\n",
      "\n",
      "Explored 429 nodes (2368 simplex iterations) in 0.72 seconds\n",
      "Thread count was 8 (of 8 available processors)\n",
      "\n",
      "Solution count 10: 6.18403e+06 6.18403e+06 6.18403e+06 ... 6.18403e+06\n",
      "\n",
      "Optimal solution found (tolerance 1.00e-04)\n",
      "Best objective 6.184033450300e+06, best bound 6.184033450300e+06, gap 0.0000%\n"
     ]
    }
   ],
   "source": [
    "model.params.NonConvex = 2\n",
    "model.setParam(GRB.Param.PoolSearchMode, 2)\n",
    "model.Params.TimeLimit = 720\n",
    "model.optimize()"
   ]
  },
  {
   "cell_type": "code",
   "execution_count": 14,
   "metadata": {},
   "outputs": [
    {
     "name": "stdout",
     "output_type": "stream",
     "text": [
      "The maximum profit expected over 10 years is 6184033.45\n"
     ]
    }
   ],
   "source": [
    "print(\"The maximum profit expected over 10 years is\",round(model.objval,2))"
   ]
  },
  {
   "cell_type": "code",
   "execution_count": 15,
   "metadata": {
    "scrolled": false
   },
   "outputs": [
    {
     "name": "stdout",
     "output_type": "stream",
     "text": [
      "choice_1_yr_1_crop_barley = 1.0\n",
      "choice_1_yr_2_crop_oats = 1.0\n",
      "choice_1_yr_3_crop_rice = 1.0\n",
      "choice_1_yr_4_crop_barley = 1.0\n",
      "choice_1_yr_5_crop_oats = 1.0\n",
      "choice_1_yr_6_crop_rice = 1.0\n",
      "choice_1_yr_7_crop_wheat = 1.0\n",
      "choice_1_yr_8_crop_oats = 1.0\n",
      "choice_1_yr_9_crop_rice = 1.0\n",
      "choice_1_yr_10_crop_barley = 1.0\n",
      "choice_3_yr_1_crop_corn = 1.0\n",
      "choice_3_yr_1_crop_rice = 1.0\n",
      "choice_3_yr_2_crop_cotton = 1.0\n",
      "choice_3_yr_2_crop_barley = 1.0\n",
      "choice_3_yr_3_crop_wheat = 1.0\n",
      "choice_3_yr_3_crop_oats = 1.0\n",
      "choice_3_yr_4_crop_corn = 1.0\n",
      "choice_3_yr_4_crop_rice = 1.0\n",
      "choice_3_yr_5_crop_cotton = 1.0\n",
      "choice_3_yr_5_crop_barley = 1.0\n",
      "choice_3_yr_6_crop_wheat = 1.0\n",
      "choice_3_yr_6_crop_oats = 1.0\n",
      "choice_3_yr_7_crop_corn = 1.0\n",
      "choice_3_yr_7_crop_rice = 1.0\n",
      "choice_3_yr_8_crop_cotton = 1.0\n",
      "choice_3_yr_8_crop_barley = 1.0\n",
      "choice_3_yr_9_crop_wheat = 1.0\n",
      "choice_3_yr_9_crop_oats = 1.0\n",
      "choice_3_yr_10_crop_corn = 1.0\n",
      "choice_3_yr_10_crop_rice = 1.0\n",
      "profit_1_1 = 23486.56\n",
      "profit_1_2 = 205497.22\n",
      "profit_1_3 = 501347.52\n",
      "profit_1_4 = 23486.56\n",
      "profit_1_5 = 205497.22\n",
      "profit_1_6 = 501347.52\n",
      "profit_1_7 = 4641.95\n",
      "profit_1_8 = 205497.22\n",
      "profit_1_9 = 501347.52\n",
      "profit_1_10 = 23486.56\n",
      "profit_3_1 = 955317.53\n",
      "profit_3_2 = 25380.07\n",
      "profit_3_3 = 30329.1\n",
      "profit_3_4 = 955317.53\n",
      "profit_3_5 = 25380.07\n",
      "profit_3_6 = 30329.1\n",
      "profit_3_7 = 955317.53\n",
      "profit_3_8 = 25380.07\n",
      "profit_3_9 = 30329.1\n",
      "profit_3_10 = 955317.53\n",
      "land_devoted_1_yr_rotn_year_1 = 1.0\n",
      "land_devoted_3_yr_rotn_year_1 = 4.5\n",
      "land_devoted_1_yr_rotn_year_2 = 8.0\n",
      "land_devoted_3_yr_rotn_year_2 = 1.0\n",
      "land_devoted_1_yr_rotn_year_3 = 8.0\n",
      "land_devoted_3_yr_rotn_year_3 = 1.0\n",
      "land_devoted_1_yr_rotn_year_4 = 1.0\n",
      "land_devoted_3_yr_rotn_year_4 = 4.5\n",
      "land_devoted_1_yr_rotn_year_5 = 8.0\n",
      "land_devoted_3_yr_rotn_year_5 = 1.0\n",
      "land_devoted_1_yr_rotn_year_6 = 8.0\n",
      "land_devoted_3_yr_rotn_year_6 = 1.0\n",
      "land_devoted_1_yr_rotn_year_7 = 1.0\n",
      "land_devoted_3_yr_rotn_year_7 = 4.5\n",
      "land_devoted_1_yr_rotn_year_8 = 8.0\n",
      "land_devoted_3_yr_rotn_year_8 = 1.0\n",
      "land_devoted_1_yr_rotn_year_9 = 8.0\n",
      "land_devoted_3_yr_rotn_year_9 = 1.0\n",
      "land_devoted_1_yr_rotn_year_10 = 1.0\n",
      "land_devoted_3_yr_rotn_year_10 = 4.5\n",
      "[23486.56, 205497.22, 501347.52, 23486.56, 205497.22, 501347.52, 4641.95, 205497.22, 501347.52, 23486.56]\n",
      "[955317.53, 25380.07, 30329.1, 955317.53, 25380.07, 30329.1, 955317.53, 25380.07, 30329.1, 955317.53]\n",
      "[1.0, 8.0, 8.0, 1.0, 8.0, 8.0, 1.0, 8.0, 8.0, 1.0]\n",
      "[4.5, 1.0, 1.0, 4.5, 1.0, 1.0, 4.5, 1.0, 1.0, 4.5]\n"
     ]
    }
   ],
   "source": [
    "p1=[]\n",
    "p3=[]\n",
    "l1=[]\n",
    "l3=[]\n",
    "for var in model.getVars():\n",
    "    if 'profit_1' in var.varName:\n",
    "        p1.append(round(var.x,2))\n",
    "    if 'profit_3' in var.varName:\n",
    "        p3.append(round(var.x,2))\n",
    "    if 'land_devoted_1' in var.varName:\n",
    "        l1.append(round(var.x,2))\n",
    "    if 'land_devoted_3' in var.varName:\n",
    "        l3.append(round(var.x,2))\n",
    "    if var.x>0:\n",
    "        print(var.varName, \"=\", round(var.x,2))\n",
    "        \n",
    "        \n",
    "print(p1)\n",
    "print(p3)\n",
    "print(l1)\n",
    "print(l3)"
   ]
  },
  {
   "cell_type": "code",
   "execution_count": 16,
   "metadata": {},
   "outputs": [],
   "source": [
    "import matplotlib.pyplot as plt"
   ]
  },
  {
   "cell_type": "code",
   "execution_count": 17,
   "metadata": {},
   "outputs": [
    {
     "data": {
      "image/png": "[encoded data removed]",
      "text/plain": [
       "<Figure size 720x360 with 1 Axes>"
      ]
     },
     "metadata": {
      "needs_background": "light"
     },
     "output_type": "display_data"
    }
   ],
   "source": [
    "  \n",
    "fig = plt.figure(figsize = (10, 5))\n",
    " \n",
    "br1 = np.arange(1, len(p1)+1)\n",
    "br2 = [x + 0.4 for x in br1]\n",
    "\n",
    "plt.bar(br1, p1, color ='brown', width = 0.4, label ='1_year')\n",
    "plt.bar(br2, p3, color = 'green', width = 0.4, label ='3_year')\n",
    " \n",
    "plt.xlabel(\"Years\")\n",
    "plt.ylabel(\"Profit (USD)\")\n",
    "plt.title(\"Profit over 10 years for crop rotation\")\n",
    "plt.legend()\n",
    "plt.show()"
   ]
  },
  {
   "cell_type": "code",
   "execution_count": 18,
   "metadata": {},
   "outputs": [
    {
     "data": {
      "image/png": "[encoded data removed]",
      "text/plain": [
       "<Figure size 720x360 with 1 Axes>"
      ]
     },
     "metadata": {
      "needs_background": "light"
     },
     "output_type": "display_data"
    }
   ],
   "source": [
    "fig1 = plt.figure(figsize = (10, 5))\n",
    "\n",
    "barWidth = 0.4\n",
    "br1 = np.arange(1, len(l1)+1)\n",
    "br2 = [x + barWidth for x in br1]\n",
    "\n",
    "\n",
    "plt.bar(br1, l1, color ='orange', width = barWidth, label ='1_year')\n",
    "plt.bar(br2, l3, color ='pink', width = barWidth, label ='3_year')\n",
    "\n",
    " \n",
    "plt.xlabel(\"Years\")\n",
    "plt.ylabel(\"Land Devoted to each crop (acres)\")\n",
    "plt.title(\"Land Devoted over 10 years\")\n",
    "plt.legend()\n",
    "plt.show()"
   ]
  },
  {
   "cell_type": "code",
   "execution_count": null,
   "metadata": {},
   "outputs": [],
   "source": []
  },
  {
   "cell_type": "code",
   "execution_count": null,
   "metadata": {},
   "outputs": [],
   "source": []
  },
  {
   "cell_type": "code",
   "execution_count": null,
   "metadata": {},
   "outputs": [],
   "source": []
  }
 ],
 "metadata": {
  "kernelspec": {
   "display_name": "Python 3",
   "language": "python",
   "name": "python3"
  },
  "language_info": {
   "codemirror_mode": {
    "name": "ipython",
    "version": 3
   },
   "file_extension": ".py",
   "mimetype": "text/x-python",
   "name": "python",
   "nbconvert_exporter": "python",
   "pygments_lexer": "ipython3",
   "version": "3.7.4"
  }
 },
 "nbformat": 4,
 "nbformat_minor": 4
}
