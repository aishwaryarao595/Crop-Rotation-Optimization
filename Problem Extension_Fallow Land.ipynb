{
 "cells": [
  {
   "cell_type": "code",
   "execution_count": 1,
   "metadata": {},
   "outputs": [],
   "source": [
    "#importing libraries\n",
    "import gurobipy as gp\n",
    "from gurobipy import *\n",
    "import pandas as pd\n",
    "import numpy as np"
   ]
  },
  {
   "cell_type": "markdown",
   "metadata": {},
   "source": [
    "##### Assumptions"
   ]
  },
  {
   "cell_type": "code",
   "execution_count": 2,
   "metadata": {},
   "outputs": [],
   "source": [
    "#defining how we can split land\n",
    "land = ['1_yr_rotn', '3_yr_rotn']\n",
    "\n",
    "#Crops in selection bucket for 1-year and 3-year rotation\n",
    "cycle_1 = ['cotton', 'oats', 'wheat', 'barley', 'rice', 'fallow' ]\n",
    "cycle_3 = ['wheat', 'cotton', 'oats', 'corn', 'barley', 'rice', 'fallow']\n",
    "\n",
    "#Total acres of land to be planned for\n",
    "acres = 10\n",
    "\n",
    "#Setting budget restrictions\n",
    "seeds_budget = 100*acres\n",
    "fertilizer_budget = 150*acres\n",
    "\n",
    "#plan to be developed for pre-defined years\n",
    "years = 10\n",
    "\n",
    "#minimum no. of crops to be selected for each type of rotation\n",
    "no_1_year_crops = 1\n",
    "no_3_year_crops = 2"
   ]
  },
  {
   "cell_type": "markdown",
   "metadata": {},
   "source": [
    "##### Input data as obtained from reliable source eg. USDA"
   ]
  },
  {
   "cell_type": "code",
   "execution_count": 3,
   "metadata": {},
   "outputs": [],
   "source": [
    "#seed costs split as per crops for 1-year and 3-years rotation\n",
    "seed_1 = [17.86, 8.51, 7.51, 10.48, 24.17, 0]\n",
    "seed_3 = [7.51, 17.86, 8.51, 27.59, 10.48, 24.17, 0]\n",
    "\n",
    "#fertilizer costs split as per crops for 1-year and 3-years rotation\n",
    "fertilizer_1 = [37.96, 10.03, 18.59, 12.79, 45.93, 0]\n",
    "fertilizer_3 = [18.59, 37.96, 10.03, 51.47, 12.79, 45.93, 0]\n",
    "\n",
    "#yields split as per crops for 1-year and 3-years rotation\n",
    "yields_1 = [13.75, 61.3, 37.1, 77.2, 126.98, 0]\n",
    "yields_3 = [37.1, 13.75, 61.3, 176.5, 77.2, 126.98, 0]\n",
    "\n",
    "#selling price as per crops for 1-year and 3-years rotation\n",
    "profit_margin_1 = [137.71, 419.04, 125.12, 304.23, 493.53, 0]\n",
    "profit_margin_3 = [125.12, 137.71, 419.04, 847.73, 304.23, 493.53, 0]"
   ]
  },
  {
   "cell_type": "code",
   "execution_count": 4,
   "metadata": {},
   "outputs": [],
   "source": [
    "len_cycle_1 = len(cycle_1)\n",
    "len_cycle_3 = len(cycle_3)"
   ]
  },
  {
   "cell_type": "code",
   "execution_count": 5,
   "metadata": {},
   "outputs": [
    {
     "name": "stdout",
     "output_type": "stream",
     "text": [
      "Restricted license - for non-production use only - expires 2022-01-13\n"
     ]
    }
   ],
   "source": [
    "#Initiating the model\n",
    "model = Model(\"Team 15 - Crop Selection\")"
   ]
  },
  {
   "cell_type": "markdown",
   "metadata": {},
   "source": [
    "##### Adding decision variables\n",
    "\n",
    "- **Choice_1 :**\n",
    "    - A matrix of binary variables of dimensions (years*no._of_crops_considered_for_1-year_rotation)\n",
    "    - This matrix essentially shows if a particular crop will be grown in a particular year.\n",
    "\n",
    "\n",
    "\n",
    "- **Choice_3 :**\n",
    "    - A matrix of binary variables of dimensions (years*no._of_crops_considered_for_3-year_rotation)\n",
    "    - This matrix essentially shows if a particular crop will be grown in a particular year.  \n",
    "\n",
    "\n",
    "\n",
    "           \n",
    "- **profit_1 :**\n",
    "    - A 1-D matrix of continuous variables of length similar to number of years.\n",
    "    - This matrix captures the profit for each year as contributed by crops following the 1-year rotation.\n",
    "    \n",
    "    \n",
    " \n",
    "- **profit_3 :**\n",
    "    - A 1-D matrix of continuous variables of length similar to number of years.\n",
    "    - This matrix captures the profit for each year as contributed by crops following the 3-year rotation.\n",
    "    \n",
    " \n",
    "           \n",
    "- **land_devoted :**\n",
    "    - A 1-D matrix of continuous variables of length similar to number of years.\n",
    "    - This matrix records the land alloted to crops following 1-year rotation and 3-year rotation respectively.\n",
    "    - In case of multiple crops grown under any of the pattern, land is assumed to divided equally to the crops under                  that pattern."
   ]
  },
  {
   "cell_type": "code",
   "execution_count": 6,
   "metadata": {},
   "outputs": [],
   "source": [
    "choice_1 = model.addVars(years,len_cycle_1, vtype = GRB.BINARY, name = [\"choice_1_yr_\"+str(i+1)+\"_crop_\"+j for i in range(years) for j in cycle_1])\n",
    "choice_3 = model.addVars(years,len_cycle_3, vtype = GRB.BINARY, name = [\"choice_3_yr_\"+str(i+1)+\"_crop_\"+j for i in range(years) for j in cycle_3])\n",
    "profit_1 = model.addVars(years, vtype = GRB.CONTINUOUS, name = [\"profit_1_\"+str(i+1) for i in range(years)])\n",
    "profit_3 = model.addVars(years, vtype = GRB.CONTINUOUS, name = [\"profit_3_\"+str(i+1) for i in range(years)])\n",
    "land_devoted = model.addVars(years, len(land), lb=acres/10, vtype = GRB.CONTINUOUS, name = [\"land_devoted_\"+j+\"_year_\"+str(i+1) for i in range(years) for j in land])"
   ]
  },
  {
   "cell_type": "markdown",
   "metadata": {},
   "source": [
    "##### Adding constraints on model\n",
    "\n",
    "Constraint 1: Fertilizer budget <br>\n",
    "Constraint 2: Seeds' budget <br>\n",
    "Constraint 3: Limit on no. of crops for a 1-year rotation  <br>\n",
    "Constraint 4: Limit on no. of crops for a 3-year rotation <br>\n",
    "Constraint 5: Max limit on no. of crops to be planted overall <br>\n",
    "Constarint 6: Land devoted to the crops should be less than the farm size"
   ]
  },
  {
   "cell_type": "code",
   "execution_count": 7,
   "metadata": {},
   "outputs": [],
   "source": [
    "for i in range(years):\n",
    "    model.addConstr(sum(choice_1[i,j]*fertilizer_1[j]*land_devoted[i,0] for j in range(len(fertilizer_1)))+sum(choice_3[i,k]*fertilizer_3[k]*land_devoted[i,1] for k in range(len(fertilizer_3)))<=fertilizer_budget, name=\"fertilizer_budget_year_\"+str(i+1))\n",
    "    model.addConstr(sum(choice_1[i,j]*seed_1[j]*land_devoted[i,0] for j in range(len(seed_1)))+sum(choice_3[i,k]*seed_3[k]*land_devoted[i,1] for k in range(len(seed_3)))<=seeds_budget, name=\"seed_budget_year_\"+str(i+1))\n",
    "    model.addConstr(sum(choice_1[i,j] for j in range(len_cycle_1))>=no_1_year_crops, name=\"selection_limit_1_year_\"+str(i+1))\n",
    "    model.addConstr(sum(choice_3[i,j] for j in range(len_cycle_3))>=no_3_year_crops, name=\"selection_limit_3_year_\"+str(i+1))\n",
    "    model.addConstr(sum(choice_1[i,j]*land_devoted[i,0] for j in range(len(cycle_1)))+sum(choice_3[i,k]*land_devoted[i,1] for k in range(len(cycle_3)))<=acres, name=\"land_devoted_limit\"+str(i+1))\n",
    "    model.addConstr(sum(land_devoted[i,j] for j in range(len(land)))<=acres, name=\"land_limit_3_year_\"+str(i+1))"
   ]
  },
  {
   "cell_type": "markdown",
   "metadata": {},
   "source": [
    "Constraint 7: Corn to be preceded by Wheat"
   ]
  },
  {
   "cell_type": "code",
   "execution_count": 8,
   "metadata": {},
   "outputs": [],
   "source": [
    "for i in range(1,years):\n",
    "    model.addConstr(choice_3[i, 3]<=choice_3[i-1, 0], name=\"corn-wheat_\"+str(i))"
   ]
  },
  {
   "cell_type": "markdown",
   "metadata": {},
   "source": [
    "Constraints on fallow land <br>\n",
    "Constraint 8: Minimum occurence of fallow land in 1-year rotation should be >= 2 <br>\n",
    "Constraint 9: Minimum occurence of fallow land in 3-year rotation should be >= 2 <br>\n",
    "Constraint 10: Land should not be kept as fallow for the 1st year in 1-year cycle rotation <br>\n",
    "Constraint 11: Land should not be kept as fallow for the 1st year in 3-year cycle rotation <br>"
   ]
  },
  {
   "cell_type": "code",
   "execution_count": 9,
   "metadata": {},
   "outputs": [
    {
     "data": {
      "text/plain": [
       "<gurobi.Constr *Awaiting Model Update*>"
      ]
     },
     "execution_count": 9,
     "metadata": {},
     "output_type": "execute_result"
    }
   ],
   "source": [
    "\n",
    "model.addConstr(sum(choice_1[j,(len_cycle_1-1)] for j in range(years))>=2, name=\"fallow_1_crop_\"+str(i))\n",
    "model.addConstr(sum(choice_3[j,(len_cycle_3-1)] for j in range(years))>=2, name=\"fallow_3_crop_\"+str(i))\n",
    "model.addConstr(choice_1[0,(len_cycle_1-1)] == 0, name=\"fallow0_1_crop_\")\n",
    "model.addConstr(choice_3[0,(len_cycle_3-1)] == 0, name=\"fallow0_3_crop_\")"
   ]
  },
  {
   "cell_type": "markdown",
   "metadata": {},
   "source": [
    "Constraint 8: Same crop cannot be planted in the 1-year rotation plan as well as the 3-year rotation plan <br>"
   ]
  },
  {
   "cell_type": "code",
   "execution_count": 10,
   "metadata": {},
   "outputs": [],
   "source": [
    "a=[]\n",
    "\n",
    "for j in range(len(cycle_1)):\n",
    "    for k in range(len(cycle_3)):\n",
    "        if cycle_1[j]==cycle_3[k]:\n",
    "            if cycle_1[j] not in a:\n",
    "                a.append(cycle_1[j])\n",
    "                for i in range(years):\n",
    "                    model.addConstr(choice_1[i,j]+choice_3[i,k]<=1, name=\"No Two crops\"+str(i)+\"_\"+str(j)+\"_\"+str(k))"
   ]
  },
  {
   "cell_type": "markdown",
   "metadata": {},
   "source": [
    "Constraint 9: Limit on planting the same crop for a 1-year rotation cycle in 10 years<br>\n",
    "Constraint 10: Limit on planting consecutive crops for a 1-year cycle rotation <br>\n",
    "Constraint 11: Limit on planting the same crop for a 3-year rotation cycle in 10 years <br>\n",
    "Constraint 12: Limit on planting consecutive crops for a 3-year cycle rotation<br>"
   ]
  },
  {
   "cell_type": "code",
   "execution_count": 11,
   "metadata": {},
   "outputs": [],
   "source": [
    "for i in range(len_cycle_1):\n",
    "    model.addConstr(sum(choice_1[j,i] for j in range(years))<=3, name=\"growth_limit_1_crop_\"+str(i))\n",
    "    for j in range(0, (years-1)):\n",
    "        model.addConstr(choice_1[j,i]+choice_1[j+1,i]<=1, name=\"consecutive_1_crop_\"+str(i)+\"_Year_\"+str(j))\n",
    "for i in range(len_cycle_3):\n",
    "    model.addConstr(sum(choice_3[j,i] for j in range(years))<=4, name=\"growth_limit_3_crop_\"+str(i))\n",
    "    for j in range(0, (years-2)):\n",
    "        model.addConstr(choice_3[j,i]+choice_3[j+1,i]+choice_3[j+2,i]<=1, name=\"consecutive_3_crop_\"+str(i)+\"_Year_\"+str(j))"
   ]
  },
  {
   "cell_type": "markdown",
   "metadata": {},
   "source": [
    "##### Constraints on objective\n",
    "\n",
    "Constraint 13: Profit earned from a 1-year cycle rotation <br>\n",
    "Constraint 14: Profit earned from a 3-year cycle rotation <br>"
   ]
  },
  {
   "cell_type": "code",
   "execution_count": 12,
   "metadata": {},
   "outputs": [],
   "source": [
    "for i in range(years):\n",
    "    model.addConstr(sum(choice_1[i,j]*profit_margin_1[j]*yields_1[j]*land_devoted[i,0] for j in range(len_cycle_1)) == profit_1[i], name=\"profit_1_\"+str(i))\n",
    "    model.addConstr(sum(choice_3[i,j]*profit_margin_3[j]*yields_3[j]*land_devoted[i,1] for j in range(len_cycle_3)) == profit_3[i], name=\"profit_3_\"+str(i))"
   ]
  },
  {
   "cell_type": "code",
   "execution_count": 13,
   "metadata": {},
   "outputs": [],
   "source": [
    "objective = sum(profit_1[i]+profit_3[i] for i in range(years))\n",
    "model.setObjective(objective, GRB.MAXIMIZE)"
   ]
  },
  {
   "cell_type": "code",
   "execution_count": 14,
   "metadata": {
    "scrolled": true
   },
   "outputs": [
    {
     "name": "stdout",
     "output_type": "stream",
     "text": [
      "Changed value of parameter NonConvex to 2\n",
      "   Prev: -1  Min: -1  Max: 2  Default: -1\n",
      "Changed value of parameter PoolSearchMode to 2\n",
      "   Prev: 0  Min: 0  Max: 2  Default: 0\n",
      "Changed value of parameter TimeLimit to 720.0\n",
      "   Prev: inf  Min: 0.0  Max: inf  Default: inf\n",
      "Gurobi Optimizer version 9.1.2 build v9.1.2rc0 (win64)\n",
      "Thread count: 4 physical cores, 8 logical processors, using up to 8 threads\n",
      "Optimize a model with 226 rows, 170 columns and 716 nonzeros\n",
      "Model fingerprint: 0x9879c2d8\n",
      "Model has 50 quadratic constraints\n",
      "Variable types: 40 continuous, 130 integer (130 binary)\n",
      "Coefficient statistics:\n",
      "  Matrix range     [1e+00, 1e+00]\n",
      "  QMatrix range    [1e+00, 1e+05]\n",
      "  QLMatrix range   [1e+00, 1e+00]\n",
      "  Objective range  [1e+00, 1e+00]\n",
      "  Bounds range     [1e+00, 1e+00]\n",
      "  RHS range        [1e+00, 1e+01]\n",
      "  QRHS range       [1e+01, 2e+03]\n",
      "Presolve removed 12 rows and 2 columns\n",
      "Presolve time: 0.02s\n",
      "Presolved: 612 rows, 296 columns, 2392 nonzeros\n",
      "Variable types: 168 continuous, 128 integer (128 binary)\n",
      "Found heuristic solution: objective 4129022.5145\n",
      "Found heuristic solution: objective 4716796.7180\n",
      "\n",
      "Root relaxation: objective -8.273979e+06, 337 iterations, 0.01 seconds\n",
      "\n",
      "    Nodes    |    Current Node    |     Objective Bounds      |     Work\n",
      " Expl Unexpl |  Obj  Depth IntInf | Incumbent    BestBd   Gap | It/Node Time\n",
      "\n",
      "     0     0 8273978.51    0   73 4716796.72 8273978.51  75.4%     -    0s\n",
      "H    0     0                    5666557.2480 8273978.51  46.0%     -    0s\n",
      "H    0     0                    6107418.6158 8273978.51  35.5%     -    0s\n",
      "     0     0 7944923.72    0   75 6107418.62 7944923.72  30.1%     -    0s\n",
      "     0     0 7557770.18    0   77 6107418.62 7557770.18  23.7%     -    0s\n",
      "     0     0 7512679.19    0   84 6107418.62 7512679.19  23.0%     -    0s\n",
      "     0     0 7015984.74    0   79 6107418.62 7015984.74  14.9%     -    0s\n",
      "     0     0 7006569.13    0   87 6107418.62 7006569.13  14.7%     -    0s\n",
      "     0     0 6975491.51    0   85 6107418.62 6975491.51  14.2%     -    0s\n",
      "     0     0 6842778.62    0   75 6107418.62 6842778.62  12.0%     -    0s\n",
      "     0     0 6841035.62    0   74 6107418.62 6841035.62  12.0%     -    0s\n",
      "     0     2 6841035.62    0   73 6107418.62 6841035.62  12.0%     -    0s\n",
      "H    3     8                    6136713.7453 6821808.12  11.2%  44.0    0s\n",
      "*   43    39              11    6152117.9173 6693631.58  8.80%  34.8    0s\n",
      "\n",
      "Optimal solution found at node 107 - now completing solution pool...\n",
      "\n",
      "    Nodes    |    Current Node    |      Pool Obj. Bounds     |     Work\n",
      "             |                    |   Worst                   |\n",
      " Expl Unexpl |  Obj  Depth IntInf | Incumbent    BestBd   Gap | It/Node Time\n",
      "\n",
      "   107    71     cutoff   12      6107418.62 6152117.92  0.73%  25.5    0s\n",
      "\n",
      "Cutting planes:\n",
      "  Gomory: 1\n",
      "  Implied bound: 3\n",
      "  MIR: 13\n",
      "  Flow cover: 15\n",
      "  RLT: 20\n",
      "  Relax-and-lift: 6\n",
      "\n",
      "Explored 599 nodes (5089 simplex iterations) in 0.50 seconds\n",
      "Thread count was 8 (of 8 available processors)\n",
      "\n",
      "Solution count 10: 6.15212e+06 6.15212e+06 6.15212e+06 ... 6.15212e+06\n",
      "\n",
      "Optimal solution found (tolerance 1.00e-04)\n",
      "Best objective 6.152117917300e+06, best bound 6.152117917300e+06, gap 0.0000%\n"
     ]
    }
   ],
   "source": [
    "model.params.NonConvex = 2\n",
    "model.setParam(GRB.Param.PoolSearchMode, 2)\n",
    "model.Params.TimeLimit = 720\n",
    "model.optimize()"
   ]
  },
  {
   "cell_type": "code",
   "execution_count": 15,
   "metadata": {},
   "outputs": [
    {
     "name": "stdout",
     "output_type": "stream",
     "text": [
      "The maximum profit expected over 10 years is 6152117.92\n"
     ]
    }
   ],
   "source": [
    "print(\"The maximum profit expected over 10 years is\",round(model.objval,2))"
   ]
  },
  {
   "cell_type": "code",
   "execution_count": 16,
   "metadata": {
    "scrolled": false
   },
   "outputs": [
    {
     "name": "stdout",
     "output_type": "stream",
     "text": [
      "choice_1_yr_1_crop_barley = 1.0\n",
      "choice_1_yr_2_crop_rice = 1.0\n",
      "choice_1_yr_3_crop_oats = 1.0\n",
      "choice_1_yr_4_crop_fallow = 1.0\n",
      "choice_1_yr_5_crop_rice = 1.0\n",
      "choice_1_yr_6_crop_oats = 1.0\n",
      "choice_1_yr_7_crop_fallow = 1.0\n",
      "choice_1_yr_8_crop_rice = 1.0\n",
      "choice_1_yr_9_crop_oats = 1.0\n",
      "choice_1_yr_10_crop_barley = 1.0\n",
      "choice_3_yr_1_crop_corn = 1.0\n",
      "choice_3_yr_1_crop_rice = 1.0\n",
      "choice_3_yr_2_crop_oats = 1.0\n",
      "choice_3_yr_2_crop_barley = 1.0\n",
      "choice_3_yr_3_crop_wheat = 1.0\n",
      "choice_3_yr_3_crop_fallow = 1.0\n",
      "choice_3_yr_4_crop_corn = 1.0\n",
      "choice_3_yr_4_crop_rice = 1.0\n",
      "choice_3_yr_5_crop_oats = 1.0\n",
      "choice_3_yr_5_crop_barley = 1.0\n",
      "choice_3_yr_6_crop_wheat = 1.0\n",
      "choice_3_yr_6_crop_cotton = 1.0\n",
      "choice_3_yr_7_crop_corn = 1.0\n",
      "choice_3_yr_7_crop_rice = 1.0\n",
      "choice_3_yr_8_crop_oats = 1.0\n",
      "choice_3_yr_8_crop_barley = 1.0\n",
      "choice_3_yr_9_crop_wheat = 1.0\n",
      "choice_3_yr_9_crop_fallow = 1.0\n",
      "choice_3_yr_10_crop_corn = 1.0\n",
      "choice_3_yr_10_crop_rice = 1.0\n",
      "profit_1_1 = 23486.56\n",
      "profit_1_2 = 501347.52\n",
      "profit_1_3 = 205497.22\n",
      "profit_1_5 = 501347.52\n",
      "profit_1_6 = 205497.22\n",
      "profit_1_8 = 501347.52\n",
      "profit_1_9 = 205497.22\n",
      "profit_1_10 = 23486.56\n",
      "profit_3_1 = 955317.53\n",
      "profit_3_2 = 49173.71\n",
      "profit_3_3 = 4641.95\n",
      "profit_3_4 = 955317.53\n",
      "profit_3_5 = 49173.71\n",
      "profit_3_6 = 6535.46\n",
      "profit_3_7 = 955317.53\n",
      "profit_3_8 = 49173.71\n",
      "profit_3_9 = 4641.95\n",
      "profit_3_10 = 955317.53\n",
      "land_devoted_1_yr_rotn_year_1 = 1.0\n",
      "land_devoted_3_yr_rotn_year_1 = 4.5\n",
      "land_devoted_1_yr_rotn_year_2 = 8.0\n",
      "land_devoted_3_yr_rotn_year_2 = 1.0\n",
      "land_devoted_1_yr_rotn_year_3 = 8.0\n",
      "land_devoted_3_yr_rotn_year_3 = 1.0\n",
      "land_devoted_1_yr_rotn_year_4 = 1.0\n",
      "land_devoted_3_yr_rotn_year_4 = 4.5\n",
      "land_devoted_1_yr_rotn_year_5 = 8.0\n",
      "land_devoted_3_yr_rotn_year_5 = 1.0\n",
      "land_devoted_1_yr_rotn_year_6 = 8.0\n",
      "land_devoted_3_yr_rotn_year_6 = 1.0\n",
      "land_devoted_1_yr_rotn_year_7 = 1.0\n",
      "land_devoted_3_yr_rotn_year_7 = 4.5\n",
      "land_devoted_1_yr_rotn_year_8 = 8.0\n",
      "land_devoted_3_yr_rotn_year_8 = 1.0\n",
      "land_devoted_1_yr_rotn_year_9 = 8.0\n",
      "land_devoted_3_yr_rotn_year_9 = 1.0\n",
      "land_devoted_1_yr_rotn_year_10 = 1.0\n",
      "land_devoted_3_yr_rotn_year_10 = 4.5\n",
      "[23486.56, 501347.52, 205497.22, 0.0, 501347.52, 205497.22, 0.0, 501347.52, 205497.22, 23486.56]\n",
      "[955317.53, 49173.71, 4641.95, 955317.53, 49173.71, 6535.46, 955317.53, 49173.71, 4641.95, 955317.53]\n",
      "[1.0, 8.0, 8.0, 1.0, 8.0, 8.0, 1.0, 8.0, 8.0, 1.0]\n",
      "[4.5, 1.0, 1.0, 4.5, 1.0, 1.0, 4.5, 1.0, 1.0, 4.5]\n"
     ]
    }
   ],
   "source": [
    "p1=[]\n",
    "p3=[]\n",
    "l1=[]\n",
    "l3=[]\n",
    "for var in model.getVars():\n",
    "    if 'profit_1' in var.varName:\n",
    "        p1.append(round(var.x,2))\n",
    "    if 'profit_3' in var.varName:\n",
    "        p3.append(round(var.x,2))\n",
    "    if 'land_devoted_1' in var.varName:\n",
    "        l1.append(round(var.x,2))\n",
    "    if 'land_devoted_3' in var.varName:\n",
    "        l3.append(round(var.x,2))\n",
    "    if var.x>0:\n",
    "        print(var.varName, \"=\", round(var.x,2))\n",
    "\n",
    "        \n",
    "print(p1)\n",
    "print(p3)\n",
    "print(l1)\n",
    "print(l3)"
   ]
  },
  {
   "cell_type": "code",
   "execution_count": 17,
   "metadata": {},
   "outputs": [
    {
     "name": "stdout",
     "output_type": "stream",
     "text": [
      "6.15212e+06 6.15212e+06 6.15212e+06 6.15212e+06 6.15212e+06 6.15212e+06 6.15212e+06 6.15212e+06 6.15212e+06 6.15212e+06 "
     ]
    }
   ],
   "source": [
    "for i in range(model.SolCount):\n",
    "    model.setParam(GRB.Param.SolutionNumber, i)\n",
    "    print('%g ' % model.PoolObjVal, end='')"
   ]
  },
  {
   "cell_type": "code",
   "execution_count": 18,
   "metadata": {},
   "outputs": [],
   "source": [
    "import matplotlib.pyplot as plt"
   ]
  },
  {
   "cell_type": "code",
   "execution_count": 19,
   "metadata": {},
   "outputs": [
    {
     "data": {
      "image/png": "[encoded data removed]",
      "text/plain": [
       "<Figure size 720x360 with 1 Axes>"
      ]
     },
     "metadata": {
      "needs_background": "light"
     },
     "output_type": "display_data"
    }
   ],
   "source": [
    "    \n",
    "fig = plt.figure(figsize = (10, 5))\n",
    "\n",
    "br1 = np.arange(1, len(p1)+1)\n",
    "br2 = [x + 0.4 for x in br1]\n",
    "\n",
    "plt.bar(br1, p1, color ='brown', width = 0.4, label ='1_year')\n",
    "plt.bar(br2, p3, color = 'green', width = 0.4, label ='3_year')\n",
    "\n",
    " \n",
    "plt.xlabel(\"Years\")\n",
    "plt.ylabel(\"Profit (USD)\")\n",
    "plt.title(\"Profit over 10 years for crop rotation\")\n",
    "plt.legend()\n",
    "plt.show()"
   ]
  },
  {
   "cell_type": "code",
   "execution_count": 20,
   "metadata": {},
   "outputs": [
    {
     "data": {
      "image/png": "[encoded data removed]",
      "text/plain": [
       "<Figure size 720x360 with 1 Axes>"
      ]
     },
     "metadata": {
      "needs_background": "light"
     },
     "output_type": "display_data"
    }
   ],
   "source": [
    "fig1 = plt.figure(figsize = (10, 5))\n",
    "\n",
    "\n",
    "barWidth = 0.4\n",
    "br1 = np.arange(1, len(l1)+1)\n",
    "br2 = [x + barWidth for x in br1]\n",
    "\n",
    "\n",
    "plt.bar(br1, l1, color ='orange', width = barWidth, label ='1_year')\n",
    "plt.bar(br2, l3, color ='pink', width = barWidth, label ='3_year')\n",
    "\n",
    " \n",
    "plt.xlabel(\"Years\")\n",
    "plt.ylabel(\"Land Devoted to each crop (acres)\")\n",
    "plt.title(\"Land Devoted over 10 years\")\n",
    "plt.legend()\n",
    "plt.show()"
   ]
  }
 ],
 "metadata": {
  "kernelspec": {
   "display_name": "Python 3",
   "language": "python",
   "name": "python3"
  },
  "language_info": {
   "codemirror_mode": {
    "name": "ipython",
    "version": 3
   },
   "file_extension": ".py",
   "mimetype": "text/x-python",
   "name": "python",
   "nbconvert_exporter": "python",
   "pygments_lexer": "ipython3",
   "version": "3.7.4"
  }
 },
 "nbformat": 4,
 "nbformat_minor": 4
}
